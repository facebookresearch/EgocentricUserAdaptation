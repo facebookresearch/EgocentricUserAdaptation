{
 "cells": [
  {
   "cell_type": "code",
   "execution_count": null,
   "outputs": [],
   "source": [
    "\"\"\"\n",
    "This script should extract the number of unique action we have over all users for the re-exposure experiment.\n",
    "-> It is derived from the cells below to make the actual plot, if something is not working, you can check it out below.\n",
    "\n",
    "Dependencies:\n",
    "conda install jupyter\n",
    "conda install pytorch==1.9.1 torchvision==0.10.1 cudatoolkit=11.3 -c pytorch -c conda-forge\n",
    "# If dist_utils error, run: pip install setuptools==59.5.0\n",
    "\"\"\"\n",
    "\n",
    "import torch\n",
    "import os\n",
    "\n",
    "# Stored on EFS, either path should have the same nb of re-occurrences (can use either)\n",
    "SGD_parent_outputdir = \"/fb-agios-acai-efs/mattdl/results/ego4d_action_recog/forgetting_eval/logs/2022-09-23_21-12-33_UIDec506d45-3018-468f-b63a-89744c5d10f9/user_logs/\"\n",
    "replay_parent_outputdir = \"/fb-agios-acai-efs/mattdl/results/ego4d_action_recog/forgetting_eval_replay/logs/NO_GRID/2022-10-22_00-33-32_UID17d7f432-ee2f-4312-8142-be019ea89b1a/user_logs\"\n",
    "\n",
    "parent_outputdir = replay_parent_outputdir # Choose one of the paths (arbitrary), from which the user-subdirs will be iterated to collect user results\n",
    "dump_filename = \"stream_info_dump.pth\" # The name of the result-file in the user-subdir\n",
    "\n",
    "# Tags for the paths\n",
    "label_to_parent_dumpdir = {\n",
    "    'SGD':SGD_parent_outputdir,\n",
    "    'Replay':replay_parent_outputdir,\n",
    "}\n",
    "\n",
    "# Iterate over action/verb/noun\n",
    "ylabel_map = {\n",
    "    'train_action_past/FORG_EXPOSE_loss': r\"RF - action\",\n",
    "    'train_verb_past/FORG_EXPOSE_loss': r\"RF - verb\",\n",
    "    'train_noun_past/FORG_EXPOSE_loss': r\"RF - noun\",\n",
    "}\n",
    "\n",
    "for y_label_key, y_label in ylabel_map.items(): # Iterate action/verb/noun\n",
    "    for method_label, dump_parentpath in  label_to_parent_dumpdir.items(): # Iterate Replay/SGD (methods)\n",
    "        print(f\"\\n SUMMARY FOR {y_label}, method {method_label}\")\n",
    "\n",
    "        # Per method and (action/verb/noun): Summarize nb of classes\n",
    "        userid_to_actions:dict = {}\n",
    "        for idx, user_subdir in enumerate(os.scandir(parent_outputdir)): # Iterate User stream results (each a subdir)\n",
    "            if not user_subdir.is_dir():\n",
    "                continue\n",
    "            user_dump_path = os.path.join(dump_parentpath, user_subdir.name, dump_filename) # The user-stream result\n",
    "            assert os.path.isfile(user_dump_path)\n",
    "            user_id = user_subdir.name.split('_')[-1] # Extract user-id from dirname\n",
    "\n",
    "            dump = torch.load(user_dump_path) # Load dump dict\n",
    "            results = dump[y_label_key] # Get the forgetting re-exposure result dict\n",
    "\n",
    "            \"\"\"\n",
    "            result dict: is a dictionary containing 3 dictionaries that map actions to a list of iteration they were captured. The 'prev_after_update_iter' is the latest re-exposure, and at the same index, the 'current_before_update_iter' is the end of the re-exposure interval, hence we can calculate a delta in number of iterations (x-axis).\n",
    "            The third key, the 'delta' key, is not the iteration-delta, but the actual forgetting delta (y-axis)\n",
    "\n",
    "            Format:\n",
    "                {\n",
    "                'prev_after_update_iter': dict<action,value-list of iteration-start of re-exposure interval>\n",
    "                'current_before_update_iter': dict<action,value-list of iteration-end of re-exposure interval>\n",
    "                'delta': dict<action,value-list of forgetting>\n",
    "                }\n",
    "            \"\"\"\n",
    "\n",
    "            delta_dict = results['delta'] # Pick one of the three keys, and retrieve the actions\n",
    "            action_set = set(delta_dict.keys())\n",
    "\n",
    "            # Add\n",
    "            userid_to_actions[user_id] = action_set\n",
    "            print(f\"user-{user_id}: {len(action_set)} unique classes\")\n",
    "\n",
    "        # Over all users unique classes\n",
    "        total_action_set = set()\n",
    "        for user_id, action_set in userid_to_actions.items():\n",
    "            total_action_set.update(action_set)\n",
    "        print(f\"TOTAL over users: {len(total_action_set)} unique classes\")\n"
   ],
   "metadata": {
    "collapsed": false,
    "pycharm": {
     "name": "#%%\n"
    }
   }
  },
  {
   "cell_type": "code",
   "execution_count": 1,
   "outputs": [],
   "source": [
    "\"\"\"\n",
    "From a Re-exposure forgetting experiment dump, make a plot.\n",
    "\"\"\"\n",
    "import os\n",
    "import torch\n",
    "from collections import defaultdict\n",
    "import matplotlib.pyplot as plt\n",
    "import pickle\n",
    "import pandas as pd\n",
    "import seaborn as sns\n",
    "import scipy\n",
    "\n",
    "from IPython.core.interactiveshell import InteractiveShell\n",
    "InteractiveShell.ast_node_interactivity = \"all\"\n",
    "\n",
    "pd.set_option('display.max_rows', 1000)\n",
    "plt.rcParams['font.family'] = 'DeJavu Serif'\n",
    "plt.rcParams['font.serif'] = ['Times New Roman']"
   ],
   "metadata": {
    "collapsed": false,
    "pycharm": {
     "name": "#%%\n"
    }
   }
  },
  {
   "cell_type": "code",
   "execution_count": 2,
   "id": "7bbb611f",
   "metadata": {},
   "outputs": [],
   "source": [
    "# FT vs Replay\n",
    "SGD_parent_outputdir = \"/fb-agios-acai-efs/mattdl/results/ego4d_action_recog/forgetting_eval/logs/2022-09-23_21-12-33_UIDec506d45-3018-468f-b63a-89744c5d10f9/user_logs/\"\n",
    "replay_parent_outputdir = \"/fb-agios-acai-efs/mattdl/results/ego4d_action_recog/forgetting_eval_replay/logs/NO_GRID/2022-10-22_00-33-32_UID17d7f432-ee2f-4312-8142-be019ea89b1a/user_logs\"\n",
    "\n",
    "label_to_parent_dumpdir = {\n",
    "    'SGD':SGD_parent_outputdir,\n",
    "    'Replay':replay_parent_outputdir,\n",
    "}\n",
    "\n",
    "parent_outputdir = replay_parent_outputdir\n",
    "\n",
    "# Use relative path in WSL issues\n",
    "main_outdir = \"../imgs\"\n",
    "\n",
    "# READ PATHS (Dumps)\n",
    "user_dir_fmt = \"user_{}\"\n",
    "dump_filename = \"stream_info_dump.pth\"\n",
    "\n",
    "\n",
    "\n",
    "\n",
    "# Plot configs\n",
    "plot_config = {\n",
    "    \"color\": 'royalblue',\n",
    "    \"dpi\": 600,\n",
    "    \"figsize\": (6,6),\n",
    "    \"xlabel\": \"re-exposure iterations\",\n",
    "    \"ylabel\": \"\",\n",
    "    \"title\": None\n",
    "}\n",
    "\n",
    "# KEYS\n",
    "saved_dumpkeys = [\n",
    "    'train_action_past/FORG_EXPOSE_loss',\n",
    "    'train_action_past/FORG_EXPOSE_top1acc',\n",
    "\n",
    "    'train_verb_past/FORG_EXPOSE_loss',\n",
    "    'train_verb_past/FORG_EXPOSE_top1acc',\n",
    "    'train_verb_past/FORG_EXPOSE_top5acc',\n",
    "    'train_verb_past/FORG_EXPOSE_top20acc',\n",
    "\n",
    "    'train_noun_past/FORG_EXPOSE_loss',\n",
    "    'train_noun_past/FORG_EXPOSE_top1acc',\n",
    "    'train_noun_past/FORG_EXPOSE_top5acc',\n",
    "    'train_noun_past/FORG_EXPOSE_top20acc'\n",
    "]\n",
    "CHOSEN_KEY = 'train_action_past/FORG_EXPOSE_loss'\n",
    "\n",
    "# Adapt cfg\n",
    "ylabel_map = {\n",
    "    'train_action_past/FORG_EXPOSE_loss': r\"RF_action\",\n",
    "    'train_verb_past/FORG_EXPOSE_loss': r\"RF_verb\",\n",
    "    'train_noun_past/FORG_EXPOSE_loss': r\"RF_noun\",\n",
    "#     'train_action_past/FORG_EXPOSE_loss': r\"$RF_{\\text{action}}$\",\n",
    "}\n",
    "plot_config['ylabel'] = ylabel_map[CHOSEN_KEY]\n"
   ]
  },
  {
   "cell_type": "code",
   "execution_count": 42,
   "id": "32378735",
   "metadata": {
    "scrolled": false
   },
   "outputs": [
    {
     "name": "stdout",
     "output_type": "stream",
     "text": [
      "METHOD=SGD, y_label_key=train_action_past/FORG_EXPOSE_loss\n",
      "$\\rho = 0.19$\n",
      "$\\text{avg. RF} = 1.27 \\pm 0.13$\n",
      "MEAN-DELTA=2.635634065339402, SE=0.26387680053020485\n",
      "bin_means=[1.24919252 2.42149525 1.2377093  3.11452069 2.55566095 4.20785934\n",
      " 5.05203791 3.05091737 3.90879446 6.56115396]\n",
      "bin_sems=[0.46181248 0.58676957 0.60203203 0.80273748 0.92209229 0.96441592\n",
      " 0.92968519 1.24417309 2.19980649 3.53802266]\n",
      "bin_boundaries=[0.         0.22600714 0.45201428 0.67802142 0.90402856 1.13003569\n",
      " 1.35604283 1.58204997 1.80805711 2.03406425 2.26007139]\n",
      "bin_counts=[162. 105. 129. 104.  55.  70.  79.  46.  24.   8.]\n"
     ]
    },
    {
     "data": {
      "text/plain": [
       "<ErrorbarContainer object of 3 artists>"
      ]
     },
     "execution_count": 42,
     "metadata": {},
     "output_type": "execute_result"
    },
    {
     "name": "stdout",
     "output_type": "stream",
     "text": [
      "METHOD=Replay, y_label_key=train_action_past/FORG_EXPOSE_loss\n",
      "$\\rho = -0.2$\n",
      "$\\text{avg. RF} = -0.3 \\pm 0.1$\n",
      "MEAN-DELTA=-0.6282356917722894, SE=0.20293287744200192\n",
      "bin_means=[-0.11328552  0.04075279 -0.81302757  0.40292207  0.23642405 -1.66204436\n",
      " -0.43770228 -2.68204191 -4.70043199 -5.01598525]\n",
      "bin_sems=[0.35484277 0.41775482 0.42278363 0.58593014 0.82311735 0.68796467\n",
      " 0.65580757 1.12757079 2.11422602 1.95993447]\n",
      "bin_boundaries=[0.         0.22600714 0.45201428 0.67802142 0.90402856 1.13003569\n",
      " 1.35604283 1.58204997 1.80805711 2.03406425 2.26007139]\n",
      "bin_counts=[162. 105. 129. 104.  55.  70.  79.  46.  24.   8.]\n"
     ]
    },
    {
     "data": {
      "text/plain": [
       "<ErrorbarContainer object of 3 artists>"
      ]
     },
     "execution_count": 42,
     "metadata": {},
     "output_type": "execute_result"
    },
    {
     "data": {
      "text/plain": [
       "[Text(0.5, 0, 're-exposure iterations (bins)'), Text(0, 0.5, 'RF - action')]"
      ]
     },
     "execution_count": 42,
     "metadata": {},
     "output_type": "execute_result"
    },
    {
     "data": {
      "text/plain": [
       "([<matplotlib.axis.XTick at 0x7fcbc91f9880>,\n",
       "  <matplotlib.axis.XTick at 0x7fcbc91f95b0>,\n",
       "  <matplotlib.axis.XTick at 0x7fcbcc54d7f0>,\n",
       "  <matplotlib.axis.XTick at 0x7fcbc9ab59a0>,\n",
       "  <matplotlib.axis.XTick at 0x7fcbc95770a0>,\n",
       "  <matplotlib.axis.XTick at 0x7fcbc9dad0d0>,\n",
       "  <matplotlib.axis.XTick at 0x7fcbc9d73640>,\n",
       "  <matplotlib.axis.XTick at 0x7fcbc9a47700>,\n",
       "  <matplotlib.axis.XTick at 0x7fcbc9a476d0>,\n",
       "  <matplotlib.axis.XTick at 0x7fcbc9dadd60>],\n",
       " [Text(0, 0, '2'),\n",
       "  Text(1, 0, '3'),\n",
       "  Text(2, 0, '5'),\n",
       "  Text(3, 0, '8'),\n",
       "  Text(4, 0, '13'),\n",
       "  Text(5, 0, '23'),\n",
       "  Text(6, 0, '38'),\n",
       "  Text(7, 0, '64'),\n",
       "  Text(8, 0, '108'),\n",
       "  Text(9, 0, '182')])"
      ]
     },
     "execution_count": 42,
     "metadata": {},
     "output_type": "execute_result"
    },
    {
     "data": {
      "image/png": "[encoded data removed]",
      "text/plain": [
       "<Figure size 576x288 with 1 Axes>"
      ]
     },
     "metadata": {},
     "output_type": "display_data"
    },
    {
     "name": "stdout",
     "output_type": "stream",
     "text": [
      "METHOD=SGD, y_label_key=train_verb_past/FORG_EXPOSE_loss\n",
      "$\\rho = 0.32$\n",
      "$\\text{avg. RF} = 1.58 \\pm 0.09$\n",
      "MEAN-DELTA=3.9111775521409724, SE=0.18260607629772557\n",
      "bin_means=[2.49566334 4.13079881 4.70646165 4.63242043 3.58745029 4.22904886\n",
      " 5.65255582 5.14421181 6.98833713 6.281859  ]\n",
      "bin_sems=[0.22499037 0.36196758 0.56286086 0.61301599 0.5721019  0.67658496\n",
      " 1.19800755 1.28928415 1.74101017 2.48871251]\n",
      "bin_boundaries=[0.         0.20569049 0.41138097 0.61707146 0.82276194 1.02845243\n",
      " 1.23414291 1.4398334  1.64552388 1.85121437 2.05690485]\n",
      "bin_counts=[238. 127. 131.  62.  54.  66.  27.  28.  19.   7.]\n"
     ]
    },
    {
     "data": {
      "text/plain": [
       "<ErrorbarContainer object of 3 artists>"
      ]
     },
     "execution_count": 42,
     "metadata": {},
     "output_type": "execute_result"
    },
    {
     "name": "stdout",
     "output_type": "stream",
     "text": [
      "METHOD=Replay, y_label_key=train_verb_past/FORG_EXPOSE_loss\n",
      "$\\rho = -0.04$\n",
      "$\\text{avg. RF} = 0.39 \\pm 0.05$\n",
      "MEAN-DELTA=0.9504131552971601, SE=0.1145011485580182\n",
      "bin_means=[ 1.25549916  1.29718478  1.23691341  1.48982608  0.73699011 -0.36574415\n",
      "  0.3542377  -0.50460143 -0.29370145 -0.30087984]\n",
      "bin_sems=[0.18723922 0.19409389 0.29895406 0.3599422  0.46205242 0.41974513\n",
      " 0.67337147 0.6993498  1.08675476 2.17848539]\n",
      "bin_boundaries=[0.         0.20569049 0.41138097 0.61707146 0.82276194 1.02845243\n",
      " 1.23414291 1.4398334  1.64552388 1.85121437 2.05690485]\n",
      "bin_counts=[238. 127. 131.  62.  54.  66.  27.  28.  19.   7.]\n"
     ]
    },
    {
     "data": {
      "text/plain": [
       "<ErrorbarContainer object of 3 artists>"
      ]
     },
     "execution_count": 42,
     "metadata": {},
     "output_type": "execute_result"
    },
    {
     "data": {
      "text/plain": [
       "[Text(0.5, 0, 're-exposure iterations (bins)'), Text(0, 0.5, 'RF - verb')]"
      ]
     },
     "execution_count": 42,
     "metadata": {},
     "output_type": "execute_result"
    },
    {
     "data": {
      "text/plain": [
       "([<matplotlib.axis.XTick at 0x7fcbca1993a0>,\n",
       "  <matplotlib.axis.XTick at 0x7fcbca199e20>,\n",
       "  <matplotlib.axis.XTick at 0x7fcbc978b520>,\n",
       "  <matplotlib.axis.XTick at 0x7fcbc96c4820>,\n",
       "  <matplotlib.axis.XTick at 0x7fcbc9c9abb0>,\n",
       "  <matplotlib.axis.XTick at 0x7fcbc9bd5100>,\n",
       "  <matplotlib.axis.XTick at 0x7fcbc936cf10>,\n",
       "  <matplotlib.axis.XTick at 0x7fcbc936cd60>,\n",
       "  <matplotlib.axis.XTick at 0x7fcbc9864cd0>,\n",
       "  <matplotlib.axis.XTick at 0x7fcbc95347f0>],\n",
       " [Text(0, 0, '2'),\n",
       "  Text(1, 0, '3'),\n",
       "  Text(2, 0, '4'),\n",
       "  Text(3, 0, '7'),\n",
       "  Text(4, 0, '11'),\n",
       "  Text(5, 0, '17'),\n",
       "  Text(6, 0, '28'),\n",
       "  Text(7, 0, '44'),\n",
       "  Text(8, 0, '71'),\n",
       "  Text(9, 0, '114')])"
      ]
     },
     "execution_count": 42,
     "metadata": {},
     "output_type": "execute_result"
    },
    {
     "data": {
      "image/png": "[encoded data removed]",
      "text/plain": [
       "<Figure size 576x288 with 1 Axes>"
      ]
     },
     "metadata": {},
     "output_type": "display_data"
    },
    {
     "name": "stdout",
     "output_type": "stream",
     "text": [
      "METHOD=SGD, y_label_key=train_noun_past/FORG_EXPOSE_loss\n",
      "$\\rho = 0.31$\n",
      "$\\text{avg. RF} = 1.55 \\pm 0.12$\n",
      "MEAN-DELTA=4.5108980423079315, SE=0.30997971658806633\n",
      "bin_means=[2.65384951 3.30533068 3.4734792  4.51409992 4.37433369 8.96411992\n",
      " 8.13622302 9.32823069 4.36929256 1.17504644]\n",
      "bin_sems=[0.4001545  0.8256801  0.8128077  0.64747732 1.09151503 1.36983078\n",
      " 1.39721694 1.55336501 2.48037402 3.54761791]\n",
      "bin_boundaries=[0.         0.2307496  0.46149921 0.69224881 0.92299842 1.15374802\n",
      " 1.38449762 1.61524723 1.84599683 2.07674643 2.30749604]\n",
      "bin_counts=[144.  64.  83.  66.  38.  47.  42.  17.   8.   2.]\n"
     ]
    },
    {
     "data": {
      "text/plain": [
       "<ErrorbarContainer object of 3 artists>"
      ]
     },
     "execution_count": 42,
     "metadata": {},
     "output_type": "execute_result"
    },
    {
     "name": "stdout",
     "output_type": "stream",
     "text": [
      "METHOD=Replay, y_label_key=train_noun_past/FORG_EXPOSE_loss\n",
      "$\\rho = -0.07$\n",
      "$\\text{avg. RF} = 0.23 \\pm 0.07$\n",
      "MEAN-DELTA=0.6656633677428341, SE=0.18829808613358445\n",
      "bin_means=[ 0.85692787  0.73173087  0.53706285  1.41174508  0.4041386   0.17387115\n",
      "  0.80943708  0.54230226 -3.19877634 -4.490148  ]\n",
      "bin_sems=[0.29648678 0.53837639 0.42466126 0.47868694 0.66880966 0.77107058\n",
      " 0.77915968 1.51793592 1.96245796 2.96008826]\n",
      "bin_boundaries=[0.         0.2307496  0.46149921 0.69224881 0.92299842 1.15374802\n",
      " 1.38449762 1.61524723 1.84599683 2.07674643 2.30749604]\n",
      "bin_counts=[144.  64.  83.  66.  38.  47.  42.  17.   8.   2.]\n"
     ]
    },
    {
     "data": {
      "text/plain": [
       "<ErrorbarContainer object of 3 artists>"
      ]
     },
     "execution_count": 42,
     "metadata": {},
     "output_type": "execute_result"
    },
    {
     "data": {
      "text/plain": [
       "[Text(0.5, 0, 're-exposure iterations (bins)'), Text(0, 0.5, 'RF - noun')]"
      ]
     },
     "execution_count": 42,
     "metadata": {},
     "output_type": "execute_result"
    },
    {
     "data": {
      "text/plain": [
       "([<matplotlib.axis.XTick at 0x7fcbc9446e20>,\n",
       "  <matplotlib.axis.XTick at 0x7fcbc9446370>,\n",
       "  <matplotlib.axis.XTick at 0x7fcbc9d12a60>,\n",
       "  <matplotlib.axis.XTick at 0x7fcbc9217610>,\n",
       "  <matplotlib.axis.XTick at 0x7fcbc9217be0>,\n",
       "  <matplotlib.axis.XTick at 0x7fcbc94e1460>,\n",
       "  <matplotlib.axis.XTick at 0x7fcbc9a234c0>,\n",
       "  <matplotlib.axis.XTick at 0x7fcbc9a23a30>,\n",
       "  <matplotlib.axis.XTick at 0x7fcbc9a235b0>,\n",
       "  <matplotlib.axis.XTick at 0x7fcbc94e1550>],\n",
       " [Text(0, 0, '2'),\n",
       "  Text(1, 0, '3'),\n",
       "  Text(2, 0, '5'),\n",
       "  Text(3, 0, '8'),\n",
       "  Text(4, 0, '14'),\n",
       "  Text(5, 0, '24'),\n",
       "  Text(6, 0, '41'),\n",
       "  Text(7, 0, '70'),\n",
       "  Text(8, 0, '119'),\n",
       "  Text(9, 0, '203')])"
      ]
     },
     "execution_count": 42,
     "metadata": {},
     "output_type": "execute_result"
    },
    {
     "data": {
      "image/png": "[encoded data removed]",
      "text/plain": [
       "<Figure size 576x288 with 1 Axes>"
      ]
     },
     "metadata": {},
     "output_type": "display_data"
    }
   ],
   "source": [
    "import datetime\n",
    "import numpy as np\n",
    "\n",
    "sns.set(font_scale=1.6)\n",
    "# plt.rcParams['font.family'] = 'DeJavu Serif'\n",
    "# plt.rcParams['font.serif'] = ['Times New Roman']\n",
    "\n",
    "# Set fonts\n",
    "plt.rcParams['font.family'] = 'DeJavu Serif'\n",
    "plt.rcParams['font.serif'] = ['Times New Roman']\n",
    "plt.rcParams['font.size'] = 14\n",
    "\n",
    "# Use latex in mpl\n",
    "plt.rcParams['text.usetex'] = True\n",
    "plt.rcParams['text.latex.preamble'] = r'\\usepackage{amsmath}' #for \\text command\n",
    "\n",
    "# Set latex font in mpl\n",
    "plt.rcParams['mathtext.fontset'] = 'custom'\n",
    "plt.rcParams['mathtext.rm'] = 'Bitstream Vera Sans'\n",
    "plt.rcParams['mathtext.it'] = 'Bitstream Vera Sans:italic'\n",
    "plt.rcParams['mathtext.bf'] = 'Bitstream Vera Sans:bold'\n",
    "\n",
    "\n",
    "# Adapt cfg\n",
    "ylabel_map = {\n",
    "    'train_action_past/FORG_EXPOSE_loss': r\"RF - action\",\n",
    "    'train_verb_past/FORG_EXPOSE_loss': r\"RF - verb\",\n",
    "    'train_noun_past/FORG_EXPOSE_loss': r\"RF - noun\",\n",
    "#     'train_action_past/FORG_EXPOSE_loss': r\"$RF_{\\text{action}}$\",\n",
    "}\n",
    "\n",
    "# naem to color\n",
    "name_to_color = {\n",
    "    'SGD':sns.color_palette(\"Spectral\",10)[0],\n",
    "    'Replay': sns.color_palette(\"Spectral\",10)[9],\n",
    "}\n",
    "name_to_legend_name = {\n",
    "    'SGD': 'SGD',\n",
    "    'Replay': 'ER',\n",
    "}\n",
    "\n",
    "log_scale = True\n",
    "nb_bins = 10\n",
    "\n",
    "title = \"FORG_REEXPOSURE_SGD_VS_REPLAY\"\n",
    "parent_dirname = datetime.datetime.now().strftime('%Y-%m-%d_%H-%M-%S') + \"_\" + title\n",
    "parent_dirpath = os.path.join(main_outdir, title, parent_dirname)\n",
    "\n",
    "def add_to_df(action_results_over_time: dict, df_row_list, user_id) :\n",
    "    \"\"\"\n",
    "    :param: action_results_over_time: is a dictionary containing two dictionaries that map actions to a list of iteration they were captured. The 'prev_after_update_iter' is the latest re-exposure, and at the same index, the 'current_before_update_iter' is the end of the re-exposure interval, hence we get a delta in number of iterations.\n",
    "    {\n",
    "    'prev_after_update_iter': dict<action,value-list of iteration-start of re-exposure interval>\n",
    "    'current_before_update_iter': dict<action,value-list of iteration-end of re-exposure interval>\n",
    "    'delta': dict<action,value-list of forgetting>\n",
    "    }\n",
    "    \"\"\"\n",
    "    assert len(action_results_over_time[\"delta\"]) > 0  # Don't log if state is not kept\n",
    "\n",
    "    # Get deltas on x-axis\n",
    "    deltas_x_per_action = defaultdict(list)\n",
    "    for action, prev_res_over_time in action_results_over_time[\"prev_after_update_iter\"].items():\n",
    "        cur_res_over_time: list = action_results_over_time[\"current_before_update_iter\"][action]\n",
    "        for prev_t, new_t in zip(prev_res_over_time, cur_res_over_time):\n",
    "            assert new_t >= prev_t, f\"New iteration {new_t} <= prev iteration {prev_t}\"\n",
    "            deltas_x_per_action[action].append(new_t - prev_t)\n",
    "\n",
    "    # Get values on y-axis\n",
    "    deltas_y_per_action = action_results_over_time[\"delta\"]\n",
    "\n",
    "\n",
    "    for action, deltas_x in deltas_x_per_action.items():\n",
    "        deltas_y = deltas_y_per_action[action]\n",
    "        \n",
    "        for delta_x, delta_y in zip(deltas_x,deltas_y):\n",
    "            df_row_list.append({'user':user_id,'iter_delta':delta_x,'forg':delta_y, 'action':action})\n",
    "#         plt.scatter(deltas_x, deltas_y, color=plot_config['color'])\n",
    "\n",
    "for y_label_key in ylabel_map.keys(): # Iterate action/verb/noun\n",
    "    \n",
    "    # Figure to \n",
    "    fig, ax = plt.subplots(figsize=(8, 4))\n",
    "    for method_label, dump_parentpath in  label_to_parent_dumpdir.items(): # Iterate Replay/SGD (methods)\n",
    "        print(f\"METHOD={method_label}, y_label_key={y_label_key}\")\n",
    "        plot_config['ylabel'] = ylabel_map[y_label_key]\n",
    "\n",
    "        df_row_list:list[dict] = []\n",
    "        for idx, user_subdir in enumerate(os.scandir(parent_outputdir)): # Iterate User stream results (each a subdir)\n",
    "            if not user_subdir.is_dir():\n",
    "                continue\n",
    "            user_dump_path = os.path.join(dump_parentpath, user_subdir.name, dump_filename) # The user-stream result\n",
    "            assert os.path.isfile(user_dump_path)\n",
    "            user_id = user_subdir.name.split('_')[-1]\n",
    "\n",
    "            dump = torch.load(user_dump_path)\n",
    "            results = dump[y_label_key]\n",
    "\n",
    "            add_to_df(results, df_row_list, user_id)\n",
    "\n",
    "        df = pd.DataFrame(df_row_list)\n",
    "\n",
    "        # Get CORRELATIOn\n",
    "\n",
    "        corr = scipy.stats.pearsonr(df.iter_delta, df.forg,)\n",
    "    #     print(f\"CORR={corr}\")\n",
    "\n",
    "        print(fr\"$\\rho = {round(corr[0],2)}$\")\n",
    "        print(fr\"$\\text{{avg. RF}} = {round(df.forg.mean(),2)} \\pm {round(df.forg.sem(),2)}$\")\n",
    "        # PLOTS\n",
    "\n",
    "        # Filter without 0-iter entries\n",
    "        df = df.loc[df.iter_delta > 0]\n",
    "        \n",
    "        # TODO print average and SEM (without zero-iteration entries)\n",
    "        avg = df.forg.mean()\n",
    "        sem = df.forg.sem()\n",
    "        print(f\"MEAN-DELTA={avg}, SE={sem}\")\n",
    "\n",
    "            # To log-scale\n",
    "        if log_scale:\n",
    "            df.iter_delta = np.log10(df.iter_delta)\n",
    "            #df.forg = np.log10(df.forg) # Negative and 0 -> inf\n",
    "\n",
    "        vals_to_bin = df.iter_delta\n",
    "        stat_values = df.forg\n",
    "        bin_means, bin_boundaries, _ = scipy.stats.binned_statistic(vals_to_bin, stat_values, statistic='mean', bins=nb_bins, range=None)\n",
    "        bin_sems, *_ = scipy.stats.binned_statistic(vals_to_bin, stat_values, statistic=scipy.stats.sem, bins=nb_bins, range=None)\n",
    "        bin_counts, *_ = scipy.stats.binned_statistic(vals_to_bin, stat_values, statistic='count', bins=nb_bins, range=None)\n",
    "\n",
    "        print(f\"bin_means={bin_means}\")\n",
    "        print(f\"bin_sems={bin_sems}\")\n",
    "        print(f\"bin_boundaries={bin_boundaries}\")\n",
    "        print(f\"bin_counts={bin_counts}\")\n",
    "\n",
    "\n",
    "\n",
    "    #     x_bin_vals = [round(x,1) for x in bin_boundaries[1:]] # Still log iterations? Not making a lot of sense\n",
    "        x_bin_vals = [round(10**x) for x in bin_boundaries[1:]] # De-logscale\n",
    "        x_vals = range(len(x_bin_vals))\n",
    "        plt.errorbar(x_vals, bin_means, yerr=bin_sems,color=name_to_color[method_label],\n",
    "                    capsize=3, elinewidth=0.8, \n",
    "                     markersize=3, marker='v',mfc='black',mec='black',\n",
    "#                      markeredgewidth=1,\n",
    "                     ecolor='black',\n",
    "                     label=name_to_legend_name[method_label],\n",
    "                    )\n",
    "\n",
    "        x_coords = [p.get_x() + 0.5 * p.get_width() for p in ax.patches]\n",
    "        y_coords = [p.get_height() for p in ax.patches]\n",
    "\n",
    "    \n",
    "    # FINAL PLOT SETTINGS\n",
    "    ax.set(xlabel='re-exposure iterations (bins)', ylabel=plot_config['ylabel'])\n",
    "    plt.xticks(x_vals, x_bin_vals, rotation='horizontal')\n",
    "#     ax.set_xticklabels()\n",
    "\n",
    "#         plt.ylim(0, None)\n",
    "#     plt.xlim(-3, None)\n",
    "    \n",
    "#     ax.grid(axis='x')\n",
    "    ax.grid(True)\n",
    "\n",
    "    # TODO: LEGEND\n",
    "    leg = ax.legend()\n",
    "    \n",
    "\n",
    "    plt.tight_layout()\n",
    "\n",
    "    filename = plot_config['ylabel'].replace(' ','') + '.pdf'\n",
    "    filepath = os.path.join(parent_dirpath,filename)\n",
    "    os.makedirs(parent_dirpath, exist_ok=True)\n",
    "    fig.savefig(filepath)\n",
    "\n",
    "    plt.show()\n",
    "    plt.close('all')\n",
    "    \n",
    "    \n"
   ]
  },
  {
   "cell_type": "code",
   "execution_count": null,
   "id": "75b38a38",
   "metadata": {},
   "outputs": [],
   "source": []
  }
 ],
 "metadata": {
  "kernelspec": {
   "display_name": "Python 3 (ipykernel)",
   "language": "python",
   "name": "python3"
  },
  "language_info": {
   "codemirror_mode": {
    "name": "ipython",
    "version": 3
   },
   "file_extension": ".py",
   "mimetype": "text/x-python",
   "name": "python",
   "nbconvert_exporter": "python",
   "pygments_lexer": "ipython3",
   "version": "3.9.12"
  }
 },
 "nbformat": 4,
 "nbformat_minor": 5
}