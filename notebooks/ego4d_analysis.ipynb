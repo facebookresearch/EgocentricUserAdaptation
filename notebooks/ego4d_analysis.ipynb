{
 "cells": [
  {
   "cell_type": "code",
   "execution_count": 1,
   "metadata": {
    "pycharm": {
     "is_executing": true,
     "name": "#%%\n"
    }
   },
   "outputs": [],
   "source": [
    "# Get metadata object\n",
    "import json\n",
    "meta_data_file_path = \"/fb-agios-acai-efs/Ego4D/ego4d_data/ego4d.json\"\n",
    "\n",
    "with open(meta_data_file_path, 'r') as meta_data_file:\n",
    "    meta_data_obj = json.load(meta_data_file)"
   ]
  },
  {
   "cell_type": "code",
   "execution_count": 2,
   "metadata": {},
   "outputs": [
    {
     "name": "stdout",
     "output_type": "stream",
     "text": [
      "L1=['date', 'version', 'description', 'videos', 'clips', 'concurrent_video_sets', 'physical_settings', 'moments_labels']\n",
      "L2=videos:['video_uid', 'duration_sec', 'scenarios', 'video_metadata', 'split_em', 'split_av', 'split_fho', 's3_path', 'manifold_path', 'origin_video_id', 'video_source', 'device', 'physical_setting_name', 'fb_participant_id', 'is_stereo', 'has_imu', 'has_gaze', 'imu_metadata', 'gaze_metadata', 'video_components', 'concurrent_sets', 'has_redacted_regions', 'redacted_intervals', 'gaps']\n",
      "L2=clips:['clip_uid', 'video_uid', 'video_start_sec', 'video_end_sec', 'video_start_frame', 'video_end_frame', 'clip_metadata', 's3_path', 'manifold_path']\n",
      "L2=concurrent_video_sets:['concurrent_video_set_id', 'valid', 'videos']\n",
      "L2=physical_settings:['name', 'fb_physical_setting_id', 'source', 's3_path']\n",
      "L2=moments_labels:['label', 'primary']\n",
      "we are interested in linking per-user with 'fb_participant_id' in 'videos'\n"
     ]
    }
   ],
   "source": [
    "l1_keys = [k for k in meta_data_obj.keys()]\n",
    "print(f\"L1={l1_keys}\")\n",
    "\n",
    "for l1_key in l1_keys:\n",
    "    child = meta_data_obj[l1_key]\n",
    "    if isinstance(child, dict):\n",
    "        print(f\"L2={l1_key}:{list(subdict.keys())}\")\n",
    "    elif isinstance(child, list) and isinstance(child[0],dict):\n",
    "        print(f\"L2={l1_key}:{list(child[0].keys())}\")\n",
    "print(f\"we are interested in linking per-user with 'fb_participant_id' in 'videos'\")"
   ]
  },
  {
   "cell_type": "code",
   "execution_count": null,
   "outputs": [],
   "source": [
    "# Collect videos stats\n",
    "from collections import defaultdict\n",
    "videos = meta_data_obj['videos']\n",
    "\n",
    "def percent(num,denom):\n",
    "    return float(\"{:.1f}\".format(num/denom*100))\n",
    "\n",
    "def nb_format(el_list,d=2):\n",
    "    fmt = f'{{:.{d}f}}'\n",
    "    return list(map(\n",
    "        lambda x: float(fmt.format(x)) if isinstance(x,float) else x,\n",
    "    el_list))\n",
    "    \n",
    "class UserData:\n",
    "    def __init__(self):\n",
    "        self.videos = []\n",
    "   \n",
    "# Collect vids per user\n",
    "user_dict = defaultdict(UserData)\n",
    "for video in videos:\n",
    "    user_id = str(video['fb_participant_id']) # Can be null\n",
    "    user_dict[user_id].videos.append(video)\n",
    "\n",
    "total_nb_videos = len(videos)\n",
    "\n",
    "# Extract NULL user (unassigned)\n",
    "non_int_users = []\n",
    "for user_id in user_dict.keys():\n",
    "    try:\n",
    "        int(user_id)\n",
    "    except:\n",
    "        non_int_users.append(user_id)\n",
    "print(f\"NON-INT USERS: {non_int_users} -> Assumed unassigned\")\n",
    "for non_int_user in non_int_users:\n",
    "    print(\"UNKOWN USER VIDEOS:{}/{} ({}%)\".format(\n",
    "          len(user_dict[non_int_user].videos),total_nb_videos,\n",
    "          percent(len(user_dict[non_int_user].videos),total_nb_videos))\n",
    "         )\n",
    "\n",
    "nb_users = len(user_dict.keys()) - len(non_int_users)\n",
    "print(f\"NB of ASSIGNED USERS: {nb_users}\")\n",
    "    "
   ],
   "metadata": {
    "collapsed": false,
    "pycharm": {
     "name": "#%%\n"
    }
   }
  },
  {
   "cell_type": "code",
   "execution_count": null,
   "outputs": [],
   "source": [
    "# PLOT VIDEOS PER USER\n",
    "# Barchart API: https://matplotlib.org/stable/api/_as_gen/matplotlib.pyplot.bar.html#matplotlib.pyplot.bar\n",
    "import matplotlib.pyplot as plt\n",
    "\n",
    "def plot_barchart(x_axis, sorted_freq, title,ylabel,xlabel='User-ID', grid=False):\n",
    "    max_val = max(sorted_freq)\n",
    "    my_cmap = plt.get_cmap(\"plasma\")\n",
    "    plt.figure(figsize=(12, 6), dpi=80)\n",
    "    plt.bar(x_axis, height=sorted_freq,color=my_cmap.colors)\n",
    "    plt.ylim(None,max_val*1.01)\n",
    "    plt.xlabel(xlabel)\n",
    "    plt.ylabel(ylabel)\n",
    "    plt.title(title)\n",
    "    plt.grid(grid)\n",
    "    plt.show()\n",
    "    plt.clf()\n",
    "    \n",
    "    print(f\"HEAD = {nb_format(sorted_freq[:10])}...\")\n",
    "    print(f\"TAIL = ...{nb_format(sorted_freq[-10:])}\")\n",
    "    \n",
    "# Sorted Histogram\n",
    "# Get user counts\n",
    "def get_derived_distrs(counts):\n",
    "    \"\"\" Return sorted, PDF, CDF\"\"\"\n",
    "    counts_sorted = sorted(counts,reverse=True) # Sorted\n",
    "    \n",
    "    # Pdf\n",
    "    total_video_count = sum(counts_sorted)\n",
    "    pdf = [cnt/total_video_count for cnt in counts_sorted] # Sorted and normalized\n",
    "    \n",
    "    # Cdf\n",
    "    cdf = [pdf[0]]\n",
    "    for x in pdf[1:]:\n",
    "        cdf.append(cdf[-1]+x)\n",
    "    \n",
    "    return counts_sorted, pdf, cdf\n",
    "    \n",
    "user_video_count = [len(u.videos) for u in user_dict.values()]\n",
    "user_video_count_s, user_video_count_sn, user_video_count_snc = get_derived_distrs(user_video_count)\n",
    "\n",
    "\n",
    "x_axis = [idx for idx in range(len(user_video_count_s))]\n",
    "\n",
    "# Counts\n",
    "plot_barchart(x_axis, user_video_count_s, title='Freq of vids per User-ID',ylabel='Freq')\n",
    "# plot_barchart(user_video_count_s[1:])\n",
    "print(f\"First user is the unassigned one!\")\n",
    "\n",
    "\n",
    "# Normalized\n",
    "plot_barchart(x_axis, user_video_count_sn,  title='Fraction of vids per User-ID',ylabel='fraction')\n",
    "print(f\"Unassigned is 15%, highest user fraction is only nearly 2%\")\n",
    "\n",
    "# Cumulative\n",
    "plot_barchart(x_axis, user_video_count_snc,title='CDF of vids per User-ID',ylabel='CDF', grid=True)\n",
    "print(f\"About 60% of the videos is from the first 100 users\")\n",
    "print(f\"About 80% of the videos is from the first 200 users\")\n"
   ],
   "metadata": {
    "collapsed": false,
    "pycharm": {
     "name": "#%%\n"
    }
   }
  },
  {
   "cell_type": "code",
   "execution_count": null,
   "outputs": [],
   "source": [
    "# Now let's do the same without the unassigned videos\n",
    "\n",
    "# Renew devision factor\n",
    "user_video_count = [len(u.videos) for k, u in user_dict.items() if k not in non_int_users]\n",
    "excl_x_axis = x_axis[:-1]\n",
    "excl_user_video_count_s, excl_user_video_count_sn, excl_user_video_count_snc = get_derived_distrs(user_video_count)\n",
    "\n",
    "# Histogram\n",
    "plot_barchart(excl_x_axis, excl_user_video_count_s, title='Freq of vids per User-ID',ylabel='Freq')\n",
    "\n",
    "# Normalized\n",
    "plot_barchart(excl_x_axis, excl_user_video_count_sn,  title='Fraction of vids per User-ID',ylabel='fraction')\n",
    "print(f\"Unassigned is 15%, highest user fraction is only nearly 2%\")\n",
    "\n",
    "# Cumulative\n",
    "plot_barchart(excl_x_axis, excl_user_video_count_snc,title='CDF of vids per User-ID',ylabel='CDF', grid=True)\n",
    "print(f\"Over 50% of the videos is from the first 100 users\")\n",
    "print(f\"About 80% of the videos is from the first 250 users\")"
   ],
   "metadata": {
    "collapsed": false,
    "pycharm": {
     "name": "#%%\n"
    }
   }
  },
  {
   "cell_type": "code",
   "execution_count": null,
   "outputs": [],
   "source": [
    "# Make ROC curve with changing threshold and how many users are left\n",
    "# NOT INCLUDING unassigned vids\n",
    "import math\n",
    "\n",
    "user_video_count = sorted([len(u.videos) for k, u in user_dict.items() if k not in non_int_users],reverse=True)\n",
    "min_val, max_val = user_video_count[-1], user_video_count[0]\n",
    "\n",
    "\n",
    "def plot_line(x_axis, vals, title,ylabel,xlabel, grid=False,log=False):\n",
    "    max_val = max(vals)\n",
    "#     my_cmap = plt.get_cmap(\"plasma\")\n",
    "    fig = plt.figure(figsize=(12, 6), dpi=80)\n",
    "    ax = fig.add_subplot(1, 1, 1)\n",
    "    plt.plot(x_axis, vals,color='b',marker='o')\n",
    "    plt.xlabel(xlabel)\n",
    "    plt.ylabel(ylabel)\n",
    "    if log:\n",
    "        plt.yscale('log')\n",
    "    else:\n",
    "        plt.ylim(None,max_val*1.01)\n",
    "    \n",
    "    x_major_ticks = list(range(0,300,10))\n",
    "    ax.set_xticks(x_major_ticks)\n",
    "#     ax.set_yticks(major_ticks)\n",
    "\n",
    "    plt.title(title)\n",
    "    plt.grid(grid)\n",
    "    plt.show()\n",
    "    plt.clf()\n",
    "    \n",
    "    print(f\"HEAD = {nb_format(x_axis[:10])}...\")\n",
    "    print(f\"TAIL = ...{nb_format(x_axis[-10:])}\")\n",
    "\n",
    "# Count unique vid-counts\n",
    "unique_vidcnt_freqs = []\n",
    "user_idx = 0\n",
    "while user_idx < len(user_video_count):\n",
    "    new_vidcnt = user_video_count[user_idx]\n",
    "    nb_users = 1\n",
    "    \n",
    "    while user_idx + 1 < len(user_video_count) and user_video_count[user_idx + 1] == new_vidcnt:\n",
    "        nb_users+=1\n",
    "        user_idx+=1\n",
    "    \n",
    "    unique_vidcnt_freqs.append((new_vidcnt, nb_users))\n",
    "    user_idx+=1 # Next unique vid count\n",
    "\n",
    "# Now count how many users satisfy threshold, going from highest unique cnts to lowest\n",
    "# Like CDF, the previous higher ones also satisfy this unique new threshold\n",
    "unique_vidcnt_cum = [unique_vidcnt_freqs[0]]\n",
    "for (new_vidcnt, nb_users) in unique_vidcnt_freqs[1:]:\n",
    "    cum_users = unique_vidcnt_cum[-1][1] + nb_users\n",
    "    unique_vidcnt_cum.append((new_vidcnt,cum_users))\n",
    "\n",
    "x_vals = [x[0] for x in unique_vidcnt_cum]\n",
    "y_vals = [x[1] for x in unique_vidcnt_cum]\n",
    "\n",
    "plot_line(x_vals,y_vals,title=\"Video Count Thresh vs #Users Satisfying\",xlabel=\"Video Cnt Thresh\",ylabel=\"#Users\",grid=True)\n",
    "\n",
    "# LOG variant\n",
    "# log_y_vals = [math.log10(y) for y in y_vals]\n",
    "plot_line(x_vals,y_vals,title=\"Video Count Thresh vs #Users Satisfying\",xlabel=\"Video Cnt Thresh\",ylabel=\"#Users (log)\",grid=True,log=True)\n",
    "print(f\"10 users have >=80 videos\")\n",
    "print(f\"100 users have >=20 videos\")\n",
    "print(f\"200 users have >=10 videos\")"
   ],
   "metadata": {
    "collapsed": false,
    "pycharm": {
     "name": "#%%\n"
    }
   }
  },
  {
   "cell_type": "code",
   "execution_count": 10,
   "metadata": {},
   "outputs": [
    {
     "data": {
      "image/png": "[encoded data removed]",
      "text/plain": [
       "<Figure size 960x480 with 1 Axes>"
      ]
     },
     "metadata": {
      "needs_background": "light"
     },
     "output_type": "display_data"
    },
    {
     "name": "stdout",
     "output_type": "stream",
     "text": [
      "HEAD = [229, 125, 117, 110, 100, 95, 90, 89, 86, 80]...\n",
      "TAIL = ...[10, 9, 8, 7, 6, 5, 4, 3, 2, 1]\n"
     ]
    },
    {
     "data": {
      "text/plain": [
       "<Figure size 432x288 with 0 Axes>"
      ]
     },
     "metadata": {},
     "output_type": "display_data"
    },
    {
     "data": {
      "image/png": "[encoded data removed]",
      "text/plain": [
       "<Figure size 960x480 with 1 Axes>"
      ]
     },
     "metadata": {
      "needs_background": "light"
     },
     "output_type": "display_data"
    },
    {
     "name": "stdout",
     "output_type": "stream",
     "text": [
      "HEAD = [229, 125, 117, 110, 100, 95, 90, 89, 86, 80]...\n",
      "TAIL = ...[10, 9, 8, 7, 6, 5, 4, 3, 2, 1]\n",
      "10 users have >=80 videos\n",
      "100 users have >=20 videos\n",
      "200 users have >=10 videos\n"
     ]
    },
    {
     "data": {
      "text/plain": [
       "<Figure size 432x288 with 0 Axes>"
      ]
     },
     "metadata": {},
     "output_type": "display_data"
    }
   ],
   "source": [
    "# Make ROC curve with changing threshold and how many users are left\n",
    "# NOT INCLUDING unassigned vids\n",
    "import math\n",
    "\n",
    "user_video_count = sorted([len(u.videos) for k, u in user_dict.items() if k not in non_int_users],reverse=True)\n",
    "min_val, max_val = user_video_count[-1], user_video_count[0]\n",
    "\n",
    "\n",
    "def plot_line(x_axis, vals, title,ylabel,xlabel, grid=False,log=False):\n",
    "    max_val = max(vals)\n",
    "#     my_cmap = plt.get_cmap(\"plasma\")\n",
    "    fig = plt.figure(figsize=(12, 6), dpi=80)\n",
    "    ax = fig.add_subplot(1, 1, 1)\n",
    "    plt.plot(x_axis, vals,color='b',marker='o')\n",
    "    plt.xlabel(xlabel)\n",
    "    plt.ylabel(ylabel)\n",
    "    if log:\n",
    "        plt.yscale('log')\n",
    "    else:\n",
    "        plt.ylim(None,max_val*1.01)\n",
    "    \n",
    "    x_major_ticks = list(range(0,300,10))\n",
    "    ax.set_xticks(x_major_ticks)\n",
    "#     ax.set_yticks(major_ticks)\n",
    "\n",
    "    plt.title(title)\n",
    "    plt.grid(grid)\n",
    "    plt.show()\n",
    "    plt.clf()\n",
    "    \n",
    "    print(f\"HEAD = {nb_format(x_axis[:10])}...\")\n",
    "    print(f\"TAIL = ...{nb_format(x_axis[-10:])}\")\n",
    "\n",
    "# Count unique vid-counts\n",
    "unique_vidcnt_freqs = []\n",
    "user_idx = 0\n",
    "while user_idx < len(user_video_count):\n",
    "    new_vidcnt = user_video_count[user_idx]\n",
    "    nb_users = 1\n",
    "    \n",
    "    while user_idx + 1 < len(user_video_count) and user_video_count[user_idx + 1] == new_vidcnt:\n",
    "        nb_users+=1\n",
    "        user_idx+=1\n",
    "    \n",
    "    unique_vidcnt_freqs.append((new_vidcnt, nb_users))\n",
    "    user_idx+=1 # Next unique vid count\n",
    "\n",
    "# Now count how many users satisfy threshold, going from highest unique cnts to lowest\n",
    "# Like CDF, the previous higher ones also satisfy this unique new threshold\n",
    "unique_vidcnt_cum = [unique_vidcnt_freqs[0]]\n",
    "for (new_vidcnt, nb_users) in unique_vidcnt_freqs[1:]:\n",
    "    cum_users = unique_vidcnt_cum[-1][1] + nb_users\n",
    "    unique_vidcnt_cum.append((new_vidcnt,cum_users))\n",
    "\n",
    "x_vals = [x[0] for x in unique_vidcnt_cum]\n",
    "y_vals = [x[1] for x in unique_vidcnt_cum]\n",
    "\n",
    "plot_line(x_vals,y_vals,title=\"Video Count Thresh vs #Users Satisfying\",xlabel=\"Video Cnt Thresh\",ylabel=\"#Users\",grid=True)\n",
    "\n",
    "# LOG variant\n",
    "# log_y_vals = [math.log10(y) for y in y_vals]\n",
    "plot_line(x_vals,y_vals,title=\"Video Count Thresh vs #Users Satisfying\",xlabel=\"Video Cnt Thresh\",ylabel=\"#Users (log)\",grid=True,log=True)\n",
    "print(f\"10 users have >=80 videos\")\n",
    "print(f\"100 users have >=20 videos\")\n",
    "print(f\"200 users have >=10 videos\")"
   ]
  }
 ],
 "metadata": {
  "kernelspec": {
   "display_name": "Python 3 (ipykernel)",
   "language": "python",
   "name": "python3"
  },
  "language_info": {
   "codemirror_mode": {
    "name": "ipython",
    "version": 3
   },
   "file_extension": ".py",
   "mimetype": "text/x-python",
   "name": "python",
   "nbconvert_exporter": "python",
   "pygments_lexer": "ipython3",
   "version": "3.9.12"
  }
 },
 "nbformat": 4,
 "nbformat_minor": 1
}