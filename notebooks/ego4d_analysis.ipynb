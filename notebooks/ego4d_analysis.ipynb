{
 "cells": [
  {
   "cell_type": "code",
   "execution_count": 1,
   "metadata": {
    "pycharm": {
     "is_executing": true,
     "name": "#%%\n"
    }
   },
   "outputs": [],
   "source": [
    "# Get metadata object\n",
    "import json\n",
    "meta_data_file_path = \"/fb-agios-acai-efs/Ego4D/ego4d_data/ego4d.json\"\n",
    "\n",
    "with open(meta_data_file_path, 'r') as meta_data_file:\n",
    "    meta_data_obj = json.load(meta_data_file)"
   ]
  },
  {
   "cell_type": "code",
   "execution_count": null,
   "outputs": [],
   "source": [
    "l1_keys = [k for k in meta_data_obj.keys()]\n",
    "print(f\"L1={l1_keys}\")\n",
    "\n",
    "for l1_key in l1_keys:\n",
    "    child = meta_data_obj[l1_key]\n",
    "    if isinstance(child, dict):\n",
    "        print(f\"L2={l1_key}:{list(subdict.keys())}\")\n",
    "    elif isinstance(child, list) and isinstance(child[0],dict):\n",
    "        print(f\"L2={l1_key}:{list(child[0].keys())}\")\n",
    "print(f\"we are interested in linking per-user with 'fb_participant_id' in 'videos'\")"
   ],
   "metadata": {
    "collapsed": false,
    "pycharm": {
     "name": "#%%\n"
    }
   }
  },
  {
   "cell_type": "code",
   "execution_count": null,
   "outputs": [],
   "source": [
    "# Collect videos stats\n",
    "from collections import defaultdict\n",
    "videos = meta_data_obj['videos']\n",
    "\n",
    "def percent_str(num,denom):\n",
    "    return \"{:.1f}%\".format(num/denom*100)\n",
    "\n",
    "def nb_format(el_list,d=2):\n",
    "    fmt = f'{{:.{d}f}}'\n",
    "    return list(map(\n",
    "        lambda x: float(fmt.format(x)) if isinstance(x,float) else x,\n",
    "    el_list))\n",
    "    \n",
    "class UserData:\n",
    "    def __init__(self):\n",
    "        self.videos = []\n",
    "   \n",
    "# Collect vids per user\n",
    "user_dict = defaultdict(UserData)\n",
    "for video in videos:\n",
    "    user_id = str(video['fb_participant_id']) # Can be null\n",
    "    user_dict[user_id].videos.append(video)\n",
    "\n",
    "total_nb_videos = len(videos)\n",
    "\n",
    "# Extract NULL user (unassigned)\n",
    "non_int_users = []\n",
    "for user_id in user_dict.keys():\n",
    "    try:\n",
    "        int(user_id)\n",
    "    except:\n",
    "        non_int_users.append(user_id)\n",
    "print(f\"NON-INT USERS: {non_int_users} -> Assumed unassigned\")\n",
    "for non_int_user in non_int_users:\n",
    "    print(f\"UNKOWN USER VIDEOS: {user_video_count[non_int_user]}/{total_nb_videos} ({percent_str(user_video_count[non_int_user],total_nb_videos)})\")\n",
    "\n",
    "nb_users = len(user_dict.keys()) - len(non_int_users)\n",
    "print(f\"NB of USERS: {nb_users}\")\n",
    "    "
   ],
   "metadata": {
    "collapsed": false,
    "pycharm": {
     "name": "#%%\n"
    }
   }
  },
  {
   "cell_type": "code",
   "execution_count": null,
   "outputs": [],
   "source": [
    "# PLOT VIDEOS PER USER\n",
    "# Barchart API: https://matplotlib.org/stable/api/_as_gen/matplotlib.pyplot.bar.html#matplotlib.pyplot.bar\n",
    "import matplotlib.pyplot as plt\n",
    "\n",
    "def plot_barchart(x_axis, sorted_freq, title,ylabel,xlabel='User-ID', grid=False):\n",
    "    max_val = max(sorted_freq)\n",
    "    my_cmap = plt.get_cmap(\"plasma\")\n",
    "    plt.figure(figsize=(12, 6), dpi=80)\n",
    "    plt.bar(x_axis, height=sorted_freq,color=my_cmap.colors)\n",
    "    plt.ylim(None,max_val*1.01)\n",
    "    plt.xlabel(xlabel)\n",
    "    plt.ylabel(ylabel)\n",
    "    plt.title(title)\n",
    "    plt.grid(grid)\n",
    "    plt.show()\n",
    "    plt.clf()\n",
    "    \n",
    "    print(f\"HEAD = {nb_format(sorted_freq[:10])}...\")\n",
    "    print(f\"TAIL = ...{nb_format(sorted_freq[-10:])}\")\n",
    "    \n",
    "# Sorted Histogram\n",
    "# Get user counts\n",
    "def get_derived_distrs(counts):\n",
    "    \"\"\" Return sorted, PDF, CDF\"\"\"\n",
    "    counts_sorted = sorted(counts,reverse=True) # Sorted\n",
    "    \n",
    "    # Pdf\n",
    "    total_video_count = sum(counts_sorted)\n",
    "    pdf = [cnt/total_video_count for cnt in counts_sorted] # Sorted and normalized\n",
    "    \n",
    "    # Cdf\n",
    "    cdf = [pdf[0]]\n",
    "    for x in pdf[1:]:\n",
    "        cdf.append(cdf[-1]+x)\n",
    "    \n",
    "    return counts_sorted, pdf, cdf\n",
    "    \n",
    "user_video_count = [len(u.videos) for u in user_dict.values()]\n",
    "user_video_count_s, user_video_count_sn, user_video_count_snc = get_derived_distrs(user_video_count)\n",
    "\n",
    "\n",
    "x_axis = [idx for idx in range(len(user_video_count_s))]\n",
    "\n",
    "# Counts\n",
    "plot_barchart(x_axis, user_video_count_s, title='Freq of vids per User-ID',ylabel='Freq')\n",
    "# plot_barchart(user_video_count_s[1:])\n",
    "print(f\"First user is the unassigned one!\")\n",
    "\n",
    "\n",
    "# Normalized\n",
    "plot_barchart(x_axis, user_video_count_sn,  title='Fraction of vids per User-ID',ylabel='fraction')\n",
    "print(f\"Unassigned is 15%, highest user fraction is only nearly 2%\")\n",
    "\n",
    "# Cumulative\n",
    "plot_barchart(x_axis, user_video_count_snc,title='CDF of vids per User-ID',ylabel='CDF', grid=True)\n",
    "print(f\"About 60% of the videos is from the first 100 users\")\n",
    "print(f\"About 80% of the videos is from the first 200 users\")\n"
   ],
   "metadata": {
    "collapsed": false,
    "pycharm": {
     "name": "#%%\n"
    }
   }
  },
  {
   "cell_type": "code",
   "execution_count": null,
   "outputs": [],
   "source": [
    "# Now let's do the same without the unassigned videos\n",
    "\n",
    "# Renew devision factor\n",
    "excl_user_video_count = user_video_count[1:]\n",
    "excl_x_axis = x_axis[:-1]\n",
    "user_video_count_s, user_video_count_sn, user_video_count_snc = get_derived_distrs(excl_user_video_count)\n",
    "\n",
    "# Histogram\n",
    "plot_barchart(excl_x_axis, user_video_count_s, title='Freq of vids per User-ID',ylabel='Freq')\n",
    "\n",
    "# Normalized\n",
    "plot_barchart(excl_x_axis, user_video_count_sn,  title='Fraction of vids per User-ID',ylabel='fraction')\n",
    "print(f\"Unassigned is 15%, highest user fraction is only nearly 2%\")\n",
    "\n",
    "# Cumulative\n",
    "plot_barchart(excl_x_axis, user_video_count_snc,title='CDF of vids per User-ID',ylabel='CDF', grid=True)\n"
   ],
   "metadata": {
    "collapsed": false,
    "pycharm": {
     "name": "#%%\n"
    }
   }
  },
  {
   "cell_type": "code",
   "execution_count": null,
   "metadata": {},
   "outputs": [
    {
     "data": {
      "image/png": "[encoded data removed]",
      "text/plain": [
       "<Figure size 960x480 with 1 Axes>"
      ]
     },
     "metadata": {
      "needs_background": "light"
     },
     "output_type": "display_data"
    },
    {
     "name": "stdout",
     "output_type": "stream",
     "text": [
      "HEAD = [1478, 229, 125, 117, 110, 100, 95, 90, 89, 86]...\n",
      "TAIL = ...[1, 1, 1, 1, 1, 1, 1, 1, 1, 1]\n"
     ]
    },
    {
     "data": {
      "text/plain": [
       "<Figure size 432x288 with 0 Axes>"
      ]
     },
     "metadata": {},
     "output_type": "display_data"
    },
    {
     "data": {
      "image/png": "[encoded data removed]",
      "text/plain": [
       "<Figure size 960x480 with 1 Axes>"
      ]
     },
     "metadata": {
      "needs_background": "light"
     },
     "output_type": "display_data"
    },
    {
     "name": "stdout",
     "output_type": "stream",
     "text": [
      "HEAD = [0.15, 0.02, 0.01, 0.01, 0.01, 0.01, 0.01, 0.01, 0.01, 0.01]...\n",
      "TAIL = ...[0.0, 0.0, 0.0, 0.0, 0.0, 0.0, 0.0, 0.0, 0.0, 0.0]\n",
      "Unassigned is 15%, highest user fraction is only nearly 2%\n"
     ]
    }
   ],
   "source": [
    "# Now let's do the same without the unassigned videos\n",
    "\n",
    "# Renew devision factor\n",
    "excl_user_video_count = user_video_count[1:]\n",
    "excl_x_axis = x_axis[:-1]\n",
    "user_video_count_s, user_video_count_sn, user_video_count_snc = get_derived_distrs(excl_user_video_count)\n",
    "\n",
    "# Histogram\n",
    "plot_barchart(excl_x_axis, user_video_count_s, title='Freq of vids per User-ID',ylabel='Freq')\n",
    "\n",
    "# Normalized\n",
    "plot_barchart(excl_x_axis, user_video_count_sn,  title='Fraction of vids per User-ID',ylabel='fraction')\n",
    "print(f\"Unassigned is 15%, highest user fraction is only nearly 2%\")\n",
    "\n",
    "# Cumulative\n",
    "plot_barchart(excl_x_axis, user_video_count_snc,title='CDF of vids per User-ID',ylabel='CDF', grid=True)\n"
   ]
  }
 ],
 "metadata": {
  "kernelspec": {
   "display_name": "Python 3 (ipykernel)",
   "language": "python",
   "name": "python3"
  },
  "language_info": {
   "codemirror_mode": {
    "name": "ipython",
    "version": 3
   },
   "file_extension": ".py",
   "mimetype": "text/x-python",
   "name": "python",
   "nbconvert_exporter": "python",
   "pygments_lexer": "ipython3",
   "version": "3.9.12"
  }
 },
 "nbformat": 4,
 "nbformat_minor": 1
}